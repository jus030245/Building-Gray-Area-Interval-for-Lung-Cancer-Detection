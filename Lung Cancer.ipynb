{
 "cells": [
  {
   "cell_type": "code",
   "execution_count": null,
   "metadata": {},
   "outputs": [],
   "source": [
    "import pandas as pd\n",
    "import seaborn as sns\n",
    "import numpy as np\n",
    "import matplotlib.pyplot as plt"
   ]
  },
  {
   "cell_type": "code",
   "execution_count": null,
   "metadata": {},
   "outputs": [],
   "source": [
    "#eda\n",
    "#check distribution\n",
    "#sheet 4 why different?\n",
    "#change test rank sum test\n",
    "#draw graph\n",
    "#compute logistic\n",
    "#maybe combine all 49*168 data together"
   ]
  },
  {
   "cell_type": "code",
   "execution_count": null,
   "metadata": {},
   "outputs": [],
   "source": [
    "#data merging\n",
    "sheet_num = [0,1,2,3,5]\n",
    "sheet_rows = [13,5,6,12,9,4]\n",
    "start_row = [1,14,19,25,37,46]\n",
    "each_mut = 168\n",
    "merge = pd.DataFrame()\n",
    "for sheet in sheet_num:\n",
    "    data_slice = []\n",
    "    #讀資料\n",
    "    data = pd.read_excel ('/Users/liu/Desktop/合作社專案三_lungcancer/data(new)/LoD+LoB(new heater) data整理-03102020.xlsx',sheet_name=sheet)\n",
    "    rows = sheet_rows[sheet]\n",
    "    start = start_row[sheet]\n",
    "    #整理資料\n",
    "    data = data.drop('Unnamed: 0',axis=1)\n",
    "    data = data.dropna(axis=1,how='all')\n",
    "    for i in range(rows):\n",
    "        data_slice.append(data.iloc[start+i,:].dropna())\n",
    "        x = pd.DataFrame(np.array(data_slice,dtype=object))\n",
    "    merge = pd.concat([merge,x],axis=0)"
   ]
  },
  {
   "cell_type": "code",
   "execution_count": null,
   "metadata": {},
   "outputs": [],
   "source": [
    "#data merging for sheet4\n",
    "sheet4 = pd.read_csv('/Users/liu/Desktop/合作社專案三_lungcancer/data(new)/LoD_EGFR-2-03102020.csv')\n",
    "rows = sheet_rows[4]\n",
    "start = start_row[4]\n",
    "mergefor4 = pd.DataFrame()\n",
    "for i in range(rows):\n",
    "        mergefor4 = pd.concat([mergefor4,pd.DataFrame(sheet4.iloc[start+i,:].dropna()).reset_index(drop=True).transpose()],axis=0)\n",
    "merge = pd.concat([merge.iloc[0:36,:],mergefor4,merge.iloc[36:40,:]],axis=0).dropna(axis=1).reset_index(drop=True)"
   ]
  },
  {
   "cell_type": "code",
   "execution_count": null,
   "metadata": {},
   "outputs": [],
   "source": [
    "#change their column name\n",
    "column_name = {}\n",
    "for i in range(4):\n",
    "    for j in range(21):\n",
    "        column_name.update({j+1+i*21: 'b1_'+'l'+str(4-i)+'r'+str(j)})\n",
    "for i in range(4):\n",
    "    for j in range(21):\n",
    "        column_name.update({j+1+i*21+84: 'b2_'+'l'+str(4-i)+'r'+str(j)})\n",
    "len(column_name)\n",
    "merge = merge.rename(columns=column_name)\n",
    "merge.iloc[:,1:169] = merge.iloc[:,1:169].astype('float')"
   ]
  },
  {
   "cell_type": "code",
   "execution_count": null,
   "metadata": {},
   "outputs": [],
   "source": [
    "#demo the distribution of one mutation\n",
    "cut = (np.linspace(0,168,9)+1).astype(int)\n",
    "fig, axs = plt.subplots(2,4,figsize=(20,10))\n",
    "for i in range(len(cut)-1):\n",
    "    if i < 4:\n",
    "        sns.histplot(ax=axs[0,i],x=merge.iloc[0,cut[i]:cut[i+1]]).set_title(label=merge.iloc[0,0]+'_'+str(7-i))\n",
    "    else:\n",
    "        sns.histplot(ax=axs[1,i-4],x=merge.iloc[0,cut[i]:cut[i+1]]).set_title(label=merge.iloc[0,0]+'_'+str(7-i))"
   ]
  },
  {
   "cell_type": "code",
   "execution_count": null,
   "metadata": {},
   "outputs": [],
   "source": [
    "#drawing all\n",
    "while true:\n",
    "    pass\n",
    "    for index in range(25):\n",
    "    fig, axs = plt.subplots(2,4,figsize=(20,10))\n",
    "    for i in range(len(cut)-1):\n",
    "        if i < 4:\n",
    "            sns.histplot(ax=axs[0,i],x=merge.iloc[index,cut[i]:cut[i+1]]).set_title(label=merge.iloc[index,0]+'_'+str(i))\n",
    "        else:\n",
    "            sns.histplot(ax=axs[1,i-4],x=merge.iloc[index,cut[i]:cut[i+1]]).set_title(label=merge.iloc[index,0]+'_'+str(i))"
   ]
  },
  {
   "cell_type": "code",
   "execution_count": null,
   "metadata": {},
   "outputs": [],
   "source": [
    "#drawing all part2\n",
    "while true:\n",
    "    pass\n",
    "    for index in range(25,49):\n",
    "    fig, axs = plt.subplots(2,4,figsize=(20,10))\n",
    "    for i in range(len(cut)-1):\n",
    "        if i < 4:\n",
    "            sns.histplot(ax=axs[0,i],x=merge.iloc[index,cut[i]:cut[i+1]]).set_title(label=merge.iloc[index,0]+'_'+str(i))\n",
    "        else:\n",
    "\n",
    "            sns.histplot(ax=axs[1,i-4],x=merge.iloc[index,cut[i]:cut[i+1]]).set_title(label=merge.iloc[index,0]+'_'+str(i))"
   ]
  },
  {
   "cell_type": "code",
   "execution_count": null,
   "metadata": {},
   "outputs": [],
   "source": [
    "#rank sum test for 2 batch of products\n",
    "from scipy.stats import ranksums\n",
    "count = 0\n",
    "alpha = 0.01\n",
    "for i in range(merge.shape[0]):\n",
    "    batch1 = merge.iloc[i,1:85]\n",
    "    batch2 = merge.iloc[i,85:169]\n",
    "    stats,pvalue = ranksums(batch1,batch2)\n",
    "    print('The pvalue of index {}, {} is: {}'.format(i,merge.iloc[i,0],pvalue))\n",
    "    if pvalue < alpha:\n",
    "        print('***Significant***')\n",
    "        count += 1\n",
    "print('There are {} tests are significant'.format(count))\n",
    "#alpha = 0.05 , 6 significant tests\n",
    "#alpha = 0.01 , 4 significant tests"
   ]
  },
  {
   "cell_type": "code",
   "execution_count": null,
   "metadata": {},
   "outputs": [],
   "source": [
    "#try to see whether the discrepency vary from different desity of mutation\n",
    "#store a dataframe 49*4 of True/False\n",
    "from scipy.stats import ranksums\n",
    "count_2 = pd.DataFrame(index=range(49),columns=range(4))\n",
    "alpha = 0.05\n",
    "for i in range(merge.shape[0]):\n",
    "    for j in range(4):\n",
    "        start_1 = j*21+1\n",
    "        start_2 = j*21+85\n",
    "        batch1 = merge.iloc[i,start_1:start_1+21]\n",
    "        batch2 = merge.iloc[i,start_2:start_2+21] \n",
    "        stats,pvalue = ranksums(batch1,batch2)\n",
    "        print('The pvalue of index {}, {} is: {}'.format(i,merge.iloc[i,j],pvalue))\n",
    "        if pvalue < alpha:\n",
    "            print('***Significant***')\n",
    "            count_2.iloc[i,j] = True\n",
    "        else:\n",
    "            count_2.iloc[i,j] = False"
   ]
  },
  {
   "cell_type": "code",
   "execution_count": null,
   "metadata": {},
   "outputs": [],
   "source": [
    "#observe count_2\n",
    "column_sum = np.sum(count_2,axis=1)\n",
    "row_sum = np.sum(count_2,axis=0)"
   ]
  },
  {
   "cell_type": "code",
   "execution_count": null,
   "metadata": {
    "scrolled": true
   },
   "outputs": [],
   "source": [
    "column_sum[column_sum>=3]"
   ]
  },
  {
   "cell_type": "code",
   "execution_count": null,
   "metadata": {},
   "outputs": [],
   "source": [
    "np.array([sum(count_2[0]),sum(count_2[1]),sum(count_2[2]),sum(count_2[3])])"
   ]
  },
  {
   "cell_type": "code",
   "execution_count": null,
   "metadata": {},
   "outputs": [],
   "source": [
    "#importing control data\n",
    "control = pd.read_excel ('/Users/liu/Desktop/合作社專案三_lungcancer/data(new)/LoD+LoB(new heater) data整理-03102020.xlsx',sheet_name=6)"
   ]
  },
  {
   "cell_type": "code",
   "execution_count": null,
   "metadata": {
    "scrolled": true
   },
   "outputs": [],
   "source": [
    "#clean the control data\n",
    "#compare whether the label are the same\n",
    "control = control.drop(index=[0,1,2]).reset_index(drop=True)\n",
    "control.iloc[:,0] == merge.iloc[:,0]"
   ]
  },
  {
   "cell_type": "code",
   "execution_count": null,
   "metadata": {},
   "outputs": [],
   "source": [
    "#check the null value counts\n",
    "control.iloc[:,1:169] = control.iloc[:,1:169].astype('float')\n",
    "control.isnull().sum(axis=1)"
   ]
  },
  {
   "cell_type": "code",
   "execution_count": null,
   "metadata": {},
   "outputs": [],
   "source": [
    "#level\n",
    "level = []\n",
    "for i in range(168):\n",
    "    if i < 21 or 84 <= i < 105:\n",
    "        level.append(4)\n",
    "    if 21 <= i < 42 or 105 <= i < 126:\n",
    "        level.append(3)\n",
    "    if 42 <= i < 63 or 126 <= i < 147:\n",
    "        level.append(2)\n",
    "    if 63 <= i < 84 or 147 <= i < 168:\n",
    "        level.append(1)"
   ]
  },
  {
   "cell_type": "code",
   "execution_count": null,
   "metadata": {},
   "outputs": [],
   "source": [
    "#filling the missing data\n",
    "def fill(row):\n",
    "    mean = np.mean(row[1:])\n",
    "    row = row.fillna(mean)\n",
    "    return row\n",
    "control = control.apply(fill,axis=1)"
   ]
  },
  {
   "cell_type": "code",
   "execution_count": null,
   "metadata": {},
   "outputs": [],
   "source": [
    "#for each mutation\n",
    "#draw a plot that have category 0 and 1\n",
    "#jittering\n",
    "#color them with different concentration"
   ]
  },
  {
   "cell_type": "code",
   "execution_count": null,
   "metadata": {},
   "outputs": [],
   "source": [
    "#testing the code for plotting a mutation point\n",
    "mutation_c = pd.DataFrame()\n",
    "mutation_c['response'] = control.iloc[0,1:]\n",
    "mutation_c['mutation'] = 0\n",
    "mutation_c['level'] = 0\n",
    "mutation_m = pd.DataFrame()\n",
    "mutation_m['response'] = merge.iloc[0,1:]\n",
    "mutation_m['mutation'] = 1\n",
    "mutation_m = pd.concat([mutation_m.reset_index(drop=True),pd.DataFrame(level,columns=['level'])],axis=1)\n",
    "mutation = pd.concat([mutation_c.reset_index(drop=True),mutation_m],axis=0).reset_index(drop=True)\n",
    "mutation['response'] = mutation['response'].astype('int')"
   ]
  },
  {
   "cell_type": "code",
   "execution_count": null,
   "metadata": {
    "scrolled": true
   },
   "outputs": [],
   "source": [
    "sns.scatterplot(data=mutation,x='response',y='mutation',hue='level',alpha=0.6)"
   ]
  },
  {
   "cell_type": "code",
   "execution_count": null,
   "metadata": {},
   "outputs": [],
   "source": [
    "plt.rcParams[\"font.family\"] = \"Times\"\n",
    "ax = sns.boxplot(data=mutation, x='mutation', y='response',hue='level')"
   ]
  },
  {
   "cell_type": "code",
   "execution_count": null,
   "metadata": {},
   "outputs": [],
   "source": [
    "#regplot seems to be slow\n",
    "sns.regplot(x=mutation['response']+1,y=mutation['mutation'],logistic=True)"
   ]
  },
  {
   "cell_type": "code",
   "execution_count": null,
   "metadata": {},
   "outputs": [],
   "source": [
    "###next steps\n",
    "#sum up what we've done here\n",
    "#jitterplot ###can't find efficient ways:P###\n",
    "#learn to write out the graph\n",
    "#logistic regression\n",
    "#data preprocessing\n",
    "#sample mutation for visualization\n",
    "#generalize to all mutation\n",
    "#better way to run for different data?\n",
    "#discuss the conclusion"
   ]
  },
  {
   "cell_type": "code",
   "execution_count": null,
   "metadata": {},
   "outputs": [],
   "source": [
    "#fit the data with sklearn logistic\n",
    "#and plot the regression line with the scatterplot\n",
    "from sklearn.linear_model import LogisticRegression\n",
    "clf = LogisticRegression()\n",
    "X = mutation['response'].values.reshape(-1,1)\n",
    "Y = mutation['mutation'].values.reshape(-1,1)\n",
    "clf.fit(X,np.ravel(Y.astype(int)))"
   ]
  },
  {
   "cell_type": "code",
   "execution_count": null,
   "metadata": {},
   "outputs": [],
   "source": [
    "curve = np.linspace(0,max(mutation['response']),100).reshape(-1,1)\n",
    "plt.plot(curve,clf.predict_proba(curve)[:,1],alpha=0.7,color='lightblue')\n",
    "sns.scatterplot(data=mutation,x='response',y='mutation',hue='level',alpha=0.6)\n",
    "plt.show()"
   ]
  },
  {
   "cell_type": "code",
   "execution_count": null,
   "metadata": {},
   "outputs": [],
   "source": [
    "###randomly sample 7 mutation points to be visiualized\n",
    "import random\n",
    "random.seed(49)\n",
    "demo_ind = random.sample(range(49),7)"
   ]
  },
  {
   "cell_type": "code",
   "execution_count": null,
   "metadata": {},
   "outputs": [],
   "source": [
    "clf = LogisticRegression()\n",
    "X = mutation['response'].values.reshape(-1,1)\n",
    "Y = mutation['mutation'].values.reshape(-1,1)\n",
    "clf.fit(X,np.ravel(Y.astype(int)))\n",
    "from sklearn.metrics import accuracy_score\n",
    "accuracy_score(Y,clf.predict(X))"
   ]
  },
  {
   "cell_type": "code",
   "execution_count": null,
   "metadata": {},
   "outputs": [],
   "source": [
    "#find the upper and lower bound of the gray area\n",
    "#set max(natural) as upper bound\n",
    "#lower bound 1.proba50 2.roc curve tp/p+tn/n 3.accuracy"
   ]
  },
  {
   "cell_type": "code",
   "execution_count": null,
   "metadata": {},
   "outputs": [],
   "source": [
    "#return the responsed value corresponding to 50%cutoff\n",
    "def proba_50(clf):\n",
    "    cutoff_proba50 = -(clf.intercept_/clf.coef_)\n",
    "    return cutoff_proba50"
   ]
  },
  {
   "cell_type": "code",
   "execution_count": null,
   "metadata": {
    "scrolled": true
   },
   "outputs": [],
   "source": [
    "#draw out the box plot of five levels\n",
    "#the scatter plot and logistic regression\n",
    "#the proba50 cutoff\n",
    "import time\n",
    "start = time.time()\n",
    "curve = np.linspace(0,max(mutation['response']),100).reshape(-1,1)\n",
    "for i in range(49):\n",
    "    mutation_c = pd.DataFrame()\n",
    "    mutation_c['response'] = control.iloc[i,1:]\n",
    "    mutation_c['mutation'] = 0\n",
    "    mutation_c['level'] = 0\n",
    "    mutation_m = pd.DataFrame()\n",
    "    mutation_m['response'] = merge.iloc[i,1:]\n",
    "    mutation_m['mutation'] = 1\n",
    "    mutation_m = pd.concat([mutation_m.reset_index(drop=True),pd.DataFrame(level,columns=['level'])],axis=1)\n",
    "    mutation = pd.concat([mutation_c.reset_index(drop=True),mutation_m],axis=0).reset_index(drop=True)\n",
    "    mutation['response'] = mutation['response'].astype('int')\n",
    "    clf = LogisticRegression()\n",
    "    X = mutation['response'].values.reshape(-1,1)\n",
    "    Y = mutation['mutation'].values.reshape(-1,1)\n",
    "    print('plot of mutation:',i,'-',merge.iloc[i,0])\n",
    "    clf.fit(X,np.ravel(Y.astype(int)))\n",
    "    ax = sns.boxplot(data=mutation, x='mutation', y='response',hue='level')\n",
    "    plt.show()\n",
    "    sns.scatterplot(data=mutation,x='response',y='mutation',hue='level',alpha=0.6)\n",
    "    plt.plot(curve,clf.predict_proba(curve)[:,1],alpha=0.7,color='lightblue')\n",
    "    plt.show()\n",
    "    print('the cutoff point for',i,'-',merge.iloc[i,0], proba_50(clf))\n",
    "end = time.time()\n",
    "print('running time: ',end-start)"
   ]
  },
  {
   "cell_type": "code",
   "execution_count": null,
   "metadata": {},
   "outputs": [],
   "source": [
    "#count the false outside gray area\n",
    "def count_large_native(data,upperbound):\n",
    "    count = sum(((data['mutation']==0)&(data['response']>upperbound)))\n",
    "    return count\n",
    "def count_small_mutation(data,lowerbound):\n",
    "    count = sum(((data['mutation']==1)&(data['response']<lowerbound)))\n",
    "    return count"
   ]
  },
  {
   "cell_type": "code",
   "execution_count": null,
   "metadata": {},
   "outputs": [],
   "source": [
    "#count the number in gray area\n",
    "def count_num(data,lower,upper):\n",
    "    count = 0\n",
    "    for i in data:\n",
    "        if lower <= i <= upper:\n",
    "            count += 1\n",
    "    return count"
   ]
  },
  {
   "cell_type": "code",
   "execution_count": null,
   "metadata": {},
   "outputs": [],
   "source": [
    "#method1\n",
    "#upper bound = max(native)\n",
    "#lower bound = proba50 cutoff\n",
    "start = time.time()\n",
    "method_1 = pd.DataFrame(columns=['Index','Name','Lower','Upper','Gray rate','FN rate','Native','Mutated','Bignative','Smallmutation'])\n",
    "for i in range(49):\n",
    "    #build dataframe for each mutation\n",
    "    #control\n",
    "    mutation_c = pd.DataFrame()\n",
    "    mutation_c['response'] = control.iloc[i,1:]\n",
    "    mutation_c['mutation'] = 0\n",
    "    mutation_c['level'] = 0\n",
    "    #mutated\n",
    "    mutation_m = pd.DataFrame()\n",
    "    mutation_m['response'] = merge.iloc[i,1:]\n",
    "    mutation_m['mutation'] = 1\n",
    "    mutation_m = pd.concat([mutation_m.reset_index(drop=True),pd.DataFrame(level,columns=['level'])],axis=1)\n",
    "    mutation = pd.concat([mutation_c.reset_index(drop=True),mutation_m],axis=0).reset_index(drop=True)\n",
    "    mutation['response'] = mutation['response'].astype('int')\n",
    "    #fit\n",
    "    clf = LogisticRegression()\n",
    "    X = mutation['response'].values.reshape(-1,1)\n",
    "    Y = mutation['mutation'].values.reshape(-1,1)\n",
    "    clf.fit(X,np.ravel(Y.astype(int)))\n",
    "    #calculating lower and upper bounds\n",
    "    upper = max(mutation_c.iloc[:,0])\n",
    "    lower = float(proba_50(clf))        \n",
    "    if lower > upper:\n",
    "        print('the bounds of gray area of ','***',i,merge.iloc[i,0],'***',' is ')\n",
    "        print('no gray area')\n",
    "        #store np.nan\n",
    "        method_1 = method_1.append({'Index':i,'Name':merge.iloc[i,0],'Lower':lower,'Upper':upper,'Gray rate':np.nan,'FN rate':np.nan,'Native':np.nan,'Mutated':np.nan,'Bignative':np.nan,'Smallmutation':np.nan},ignore_index=True)\n",
    "    else:\n",
    "    #count the proportion of data in the gray area\n",
    "        gray_num = count_num(mutation.iloc[:,0],lower,upper)\n",
    "        native = count_num(mutation_c.iloc[:,0],lower,upper)\n",
    "        mutated = count_num(mutation_m.iloc[:,0],lower,upper)\n",
    "        big_native = count_large_native(mutation,upper)\n",
    "        small_mutation = count_small_mutation(mutation,lower)\n",
    "    #store into a dataframe\n",
    "        method_1 = method_1.append({'Index':i,'Name':merge.iloc[i,0],'Lower':lower,'Upper':upper,'Gray rate':gray_num/len(mutation),'FN rate':mutated/(native+mutated),'Native':native,'Mutated':mutated,'Bignative':big_native,'Smallmutation':small_mutation},ignore_index=True)\n",
    "    #print out the result\n",
    "        print('the bounds of gray area of ','***',i,merge.iloc[i,0],'***',' is ','( {} , {} )'.format(lower,upper))\n",
    "        print('the proportion of data in the gray area is ',gray_num/len(mutation))\n",
    "        print('There are {} native and {} mutated in gray area: False Negative {}%'.format(native,mutated,mutated/(native+mutated)))\n",
    "        print('***number of large_native is {}, number of small_mutation is {}'.format(big_native,small_mutation))\n",
    "#out put the result as csv\n",
    "method_1.to_csv('method_1.csv')\n",
    "#how long does it take?\n",
    "end = time.time()\n",
    "print('running time: ',end-start)"
   ]
  },
  {
   "cell_type": "code",
   "execution_count": null,
   "metadata": {},
   "outputs": [],
   "source": [
    "def cut_data_1000(data):\n",
    "    cut_low = min(data)\n",
    "    cut_high = max(data)\n",
    "    cut = np.linspace(cut_low,cut_high,1000)\n",
    "    return(cut)\n",
    "\n",
    "def find_roc_best(mutation_c,mutation_m,cut):\n",
    "    SUM_best = 0\n",
    "    best_cut = 0\n",
    "    for i in cut:\n",
    "        TN_N = sum(mutation_c.iloc[:,0] < i) / len(mutation_c)\n",
    "        TP_P = sum(mutation_m.iloc[:,0] > i) / len(mutation_m)\n",
    "        SUM = TN_N+TP_P\n",
    "        if SUM > SUM_best:\n",
    "            best_cut = i\n",
    "            SUM_best = SUM\n",
    "    return(best_cut,SUM_best)\n",
    "        \n",
    "def find_max_accu(mutation_c,mutation_m,mutation,cut):\n",
    "    accuracy_best = 0\n",
    "    best_cut = 0\n",
    "    for i in cut:\n",
    "        TN = sum(mutation_c.iloc[:,0] < i)\n",
    "        TP = sum(mutation_m.iloc[:,0] > i)\n",
    "        accuracy = (TP+TN)/len(mutation)\n",
    "        if accuracy > accuracy_best:\n",
    "            best_cut = i\n",
    "            accuracy_best = accuracy\n",
    "    return(best_cut,accuracy_best)"
   ]
  },
  {
   "cell_type": "code",
   "execution_count": null,
   "metadata": {},
   "outputs": [],
   "source": [
    "#upper bound = max(native)\n",
    "#lower bound = best roc cutoff\n",
    "start = time.time()\n",
    "method_2 = pd.DataFrame(columns=['Index','Name','Lower','Upper','Gray rate','FN rate','Native','Mutated','Bignative','Smallmutation'])\n",
    "for i in range(49):\n",
    "    #build dataframe for each mutation\n",
    "    #control\n",
    "    mutation_c = pd.DataFrame()\n",
    "    mutation_c['response'] = control.iloc[i,1:]\n",
    "    mutation_c['mutation'] = 0\n",
    "    mutation_c['level'] = 0\n",
    "    #mutated\n",
    "    mutation_m = pd.DataFrame()\n",
    "    mutation_m['response'] = merge.iloc[i,1:]\n",
    "    mutation_m['mutation'] = 1\n",
    "    mutation_m = pd.concat([mutation_m.reset_index(drop=True),pd.DataFrame(level,columns=['level'])],axis=1)\n",
    "    mutation = pd.concat([mutation_c.reset_index(drop=True),mutation_m],axis=0).reset_index(drop=True)\n",
    "    mutation['response'] = mutation['response'].astype('int')\n",
    "    #calculating lower and upper bounds\n",
    "    upper = max(mutation_c.iloc[:,0])\n",
    "    #cut the data\n",
    "    cut = cut_data_1000(mutation.iloc[:,0])\n",
    "    #find the best criteria that separate Postive and Negative\n",
    "    lower,SUM_best = find_roc_best(mutation_c,mutation_m,cut)\n",
    "    if lower > upper:\n",
    "        print('the bounds of gray area of ','***',i,merge.iloc[i,0],'***',' is ')\n",
    "        print('no gray area')\n",
    "        #store np.nan\n",
    "        method_2 = method_2.append({'Index':i,'Name':merge.iloc[i,0],'Lower':lower,'Upper':upper,\n",
    "                                    'Gray rate':np.nan,'FN rate':np.nan,'Native':np.nan,'Mutated':np.nan,\n",
    "                                    'Bignative':np.nan,'Smallmutation':np.nan},ignore_index=True)\n",
    "    else:\n",
    "    #count the proportion of data in the gray area\n",
    "        gray_num = count_num(mutation.iloc[:,0],lower,upper)\n",
    "        native = count_num(mutation_c.iloc[:,0],lower,upper)\n",
    "        mutated = count_num(mutation_m.iloc[:,0],lower,upper)\n",
    "        big_native = count_large_native(mutation,upper)\n",
    "        small_mutation = count_small_mutation(mutation,lower)\n",
    "        #store into a dataframe\n",
    "        method_2 = method_2.append({'Index':i,'Name':merge.iloc[i,0],'Lower':lower,'Upper':upper,\n",
    "                                    'Gray rate':gray_num/len(mutation),'FN rate':mutated/(native+mutated),\n",
    "                                    'Native':native,'Mutated':mutated,'Bignative':big_native,'Smallmutation':small_mutation},\n",
    "                                   ignore_index=True)\n",
    "    #print out the result\n",
    "        print('the Best SUM of the cut :',SUM_best)\n",
    "        print('the bounds of gray area of ','***',i,merge.iloc[i,0],'***',' is ','( {} , {} )'.format(lower,upper))\n",
    "        print('the proportion of data in the gray area is ',gray_num/len(mutation))\n",
    "        print('There are {} native and {} mutated in gray area: False Negative {}%'.format(native,mutated,mutated/\n",
    "                                                                                           (native+mutated)))\n",
    "        print('***number of large_native is {}, number of small_mutation is {}'.format(big_native,\n",
    "                                                                                       small_mutation))\n",
    "        #output the result as csv\n",
    "method_2.to_csv('method_2.csv')\n",
    "#how long does it take?\n",
    "end = time.time()\n",
    "print('running time: ',end-start)"
   ]
  },
  {
   "cell_type": "code",
   "execution_count": null,
   "metadata": {},
   "outputs": [],
   "source": [
    "#upper bound = max(native)\n",
    "#lower bound = best accuracy\n",
    "start = time.time()\n",
    "method_3 = pd.DataFrame(columns=['Index','Name','Lower','Upper','Gray rate','FN rate','Native','Mutated','Bignative','Smallmutation'])\n",
    "for i in range(49):\n",
    "    #build dataframe for each mutation\n",
    "    #control\n",
    "    mutation_c = pd.DataFrame()\n",
    "    mutation_c['response'] = control.iloc[i,1:]\n",
    "    mutation_c['mutation'] = 0\n",
    "    mutation_c['level'] = 0\n",
    "    #mutated\n",
    "    mutation_m = pd.DataFrame()\n",
    "    mutation_m['response'] = merge.iloc[i,1:]\n",
    "    mutation_m['mutation'] = 1\n",
    "    mutation_m = pd.concat([mutation_m.reset_index(drop=True),pd.DataFrame(level,columns=['level'])],axis=1)\n",
    "    mutation = pd.concat([mutation_c.reset_index(drop=True),mutation_m],axis=0).reset_index(drop=True)\n",
    "    mutation['response'] = mutation['response'].astype('int')\n",
    "    #calculating lower and upper bounds\n",
    "    upper = max(mutation_c.iloc[:,0])\n",
    "    #cut the data\n",
    "    cut = cut_data_1000(mutation.iloc[:,0])\n",
    "    #find the best criteria that separate Postive and Negative\n",
    "    lower,accuracy_best = find_max_accu(mutation_c,mutation_m,mutation,cut)\n",
    "    if lower > upper:\n",
    "        print('the bounds of gray area of ','***',i,merge.iloc[i,0],'***',' is ')\n",
    "        print('no gray area')\n",
    "    #store np.nan\n",
    "        method_3 = method_3.append({'Index':i,'Name':merge.iloc[i,0],'Lower':lower,'Upper':upper,\n",
    "                                    'Gray rate':np.nan,'FN rate':np.nan,'Native':np.nan,'Mutated':np.nan,\n",
    "                                    'Bignative':np.nan,'Smallmutation':np.nan},ignore_index=True)\n",
    "    else:\n",
    "    #count the proportion of data in the gray area\n",
    "        gray_num = count_num(mutation.iloc[:,0],lower,upper)\n",
    "        native = count_num(mutation_c.iloc[:,0],lower,upper)\n",
    "        mutated = count_num(mutation_m.iloc[:,0],lower,upper)\n",
    "        big_native = count_large_native(mutation,upper)\n",
    "        small_mutation = count_small_mutation(mutation,lower)\n",
    "        #store into a dataframe\n",
    "        method_3 = method_3.append({'Index':i,'Name':merge.iloc[i,0],'Lower':lower,'Upper':upper,\n",
    "                                    'Gray rate':gray_num/len(mutation),'FN rate':mutated/(native+mutated),\n",
    "                                    'Native':native,'Mutated':mutated,'Bignative':big_native,'Smallmutation':small_mutation},\n",
    "                                   ignore_index=True)\n",
    "    #print out the result\n",
    "        print('the Best SUM of the cut :',SUM_best)\n",
    "        print('the bounds of gray area of ','***',i,merge.iloc[i,0],'***',' is ','( {} , {} )'.format(lower,upper))\n",
    "        print('the proportion of data in the gray area is ',gray_num/len(mutation))\n",
    "        print('There are {} native and {} mutated in gray area: False Negative {}%'.format(native,mutated,mutated/\n",
    "                                                                                           (native+mutated)))\n",
    "        print('***number of large_native is {}, number of small_mutation is {}'.format(big_native,\n",
    "                                                                                       small_mutation))\n",
    "#output the result as csv\n",
    "method_3.to_csv('method_3.csv')\n",
    "#how long does it take?\n",
    "end = time.time()\n",
    "print('running time: ',end-start)"
   ]
  },
  {
   "cell_type": "code",
   "execution_count": null,
   "metadata": {},
   "outputs": [],
   "source": [
    "#define the bootstrap method and it returns the list of all proba_50 values\n",
    "from sklearn.linear_model import LogisticRegression\n",
    "clf = LogisticRegression()\n",
    "def bootstrap(data,sam_pro,repeat_times):\n",
    "    bootstrap_proba50 = []\n",
    "    for i in range(repeat_times):\n",
    "        sample = data.sample(frac=sam_pro)\n",
    "        X = sample['response'].values.reshape(-1,1)+0.1\n",
    "        Y = sample['mutation'].values.reshape(-1,1)\n",
    "        clf.fit(X,np.ravel(Y.astype(int)))\n",
    "        proba50 = float(-(clf.intercept_/clf.coef_))\n",
    "        bootstrap_proba50.append(proba50)\n",
    "    return bootstrap_proba50"
   ]
  },
  {
   "cell_type": "code",
   "execution_count": null,
   "metadata": {},
   "outputs": [],
   "source": [
    "#testing the function for a mutation\n",
    "bootstrap_proba50 = bootstrap(mutation,0.8,1000)\n",
    "print('the upper bound is ',max(bootstrap_proba50),', the lower bound is ',min(bootstrap_proba50))"
   ]
  },
  {
   "cell_type": "code",
   "execution_count": null,
   "metadata": {},
   "outputs": [],
   "source": [
    "merge.iloc[:,1:].astype(float).transpose().describe().to_csv('merge_summary.csv')"
   ]
  },
  {
   "cell_type": "code",
   "execution_count": null,
   "metadata": {},
   "outputs": [],
   "source": [
    "control.iloc[:,1:].astype(float).transpose().describe().to_csv('control_summary.csv')"
   ]
  },
  {
   "cell_type": "code",
   "execution_count": null,
   "metadata": {},
   "outputs": [],
   "source": [
    "#fourth method\n",
    "#conduct bootstrap method to find the distribution proba50\n",
    "start = time.time()\n",
    "method_4 = pd.DataFrame(columns=['Index','Name','Lower','Upper','Gray rate','FN rate','Native','Mutated','Bignative','Smallmutation'])\n",
    "proba50_dis = []\n",
    "for i in range(49):\n",
    "    #build dataframe for each mutation\n",
    "    #control\n",
    "    mutation_c = pd.DataFrame()\n",
    "    mutation_c['response'] = control.iloc[i,1:]\n",
    "    mutation_c['mutation'] = 0\n",
    "    mutation_c['level'] = 0\n",
    "    #mutated\n",
    "    mutation_m = pd.DataFrame()\n",
    "    mutation_m['response'] = merge.iloc[i,1:]\n",
    "    mutation_m['mutation'] = 1\n",
    "    mutation_m = pd.concat([mutation_m.reset_index(drop=True),pd.DataFrame(level,columns=['level'])],axis=1)\n",
    "    mutation = pd.concat([mutation_c.reset_index(drop=True),mutation_m],axis=0).reset_index(drop=True)\n",
    "    mutation['response'] = mutation['response'].astype('int')\n",
    "    #bootstrap\n",
    "    bootstrap_proba50 = bootstrap(mutation,0.8,1000) #this is a list of 1000 proba50\n",
    "    proba50_dis.append(bootstrap_proba50)\n",
    "    #calculating lower and upper bounds\n",
    "    upper = max(bootstrap_proba50)\n",
    "    lower = min(bootstrap_proba50)\n",
    "    gray_num = count_num(mutation.iloc[:,0],lower,upper)\n",
    "    native = count_num(mutation_c.iloc[:,0],lower,upper)\n",
    "    mutated = count_num(mutation_m.iloc[:,0],lower,upper)\n",
    "    big_native = count_large_native(mutation,upper)\n",
    "    small_mutation = count_small_mutation(mutation,lower)\n",
    "    #store into a df\n",
    "    try:\n",
    "        FN_rate = mutated/(native+mutated)\n",
    "    except:\n",
    "        FN_rate = 0\n",
    "    method_4 = method_4.append({'Index':i,'Name':merge.iloc[i,0],'Lower':lower,'Upper':upper,\n",
    "                                'Gray rate':gray_num/len(mutation),'FN rate':FN_rate,\n",
    "                                'Native':native,'Mutated':mutated,'Bignative':big_native,'Smallmutation':small_mutation},\n",
    "                                ignore_index=True)\n",
    "    #print out the result\n",
    "    print('the bounds of gray area of ','***',i,merge.iloc[i,0],'***',' is ','( {} , {} )'.format(lower,upper))\n",
    "    print('the proportion of data in the gray area is ',gray_num/len(mutation))\n",
    "    print('There are {} native and {} mutated in gray area: False Negative {}%'.format(native,mutated,FN_rate))\n",
    "    print('***number of large_native is {}, number of small_mutation is {}'.format(big_native,\n",
    "                                                                                       small_mutation))\n",
    "#output the result as csv\n",
    "method_4.to_csv('method_4.csv')\n",
    "#how long does it take?\n",
    "end = time.time()\n",
    "print('running time: ',end-start)"
   ]
  },
  {
   "cell_type": "code",
   "execution_count": null,
   "metadata": {},
   "outputs": [],
   "source": [
    "#last time output4 csv files\n",
    "#put them into a excel and start to write analysis and discussion\n",
    "sns.displot(bootstrap_proba50)"
   ]
  },
  {
   "cell_type": "code",
   "execution_count": null,
   "metadata": {},
   "outputs": [],
   "source": [
    "proba50_dis = pd.read_csv('proba50_distribution.csv').drop(columns='Unnamed: 0')"
   ]
  },
  {
   "cell_type": "code",
   "execution_count": null,
   "metadata": {},
   "outputs": [],
   "source": [
    "for i in range(49):\n",
    "    sns.displot(proba50_dis.iloc[i,:])"
   ]
  },
  {
   "cell_type": "code",
   "execution_count": null,
   "metadata": {},
   "outputs": [],
   "source": [
    "#check #將比較標準定義在gray area外\n",
    "#check #討論bootstrap分佈異常 #次數增大出現 多峰常態的現象 可以以26舉例來討論分析結果\n",
    "#check #討論批次的異常是否集中在某處 #主要是有極端異常值 或是實驗組之變異量較大\n",
    "\n",
    "\n",
    "#漏網之魚還是不少 #下界差異較大 #分佈左偏 #討論bootstrap信心水準\n",
    "#視覺化gray area\n",
    "\n",
    "\n",
    "#程式碼已寫好，估計要跑八小時 #將法一法二法三都做bootstrap"
   ]
  },
  {
   "cell_type": "code",
   "execution_count": null,
   "metadata": {},
   "outputs": [],
   "source": [
    "#test the suitable bootstrap times for mutation26\n",
    "#choose it because of its variation\n",
    "\n",
    "import time\n",
    "start = time.time()\n",
    "proba50_dis = []\n",
    "#build dataframe for each mutation\n",
    "#control\n",
    "mutation_c = pd.DataFrame()\n",
    "mutation_c['response'] = control.iloc[26,1:]\n",
    "mutation_c['mutation'] = 0\n",
    "mutation_c['level'] = 0\n",
    "#mutated\n",
    "mutation_m = pd.DataFrame()\n",
    "mutation_m['response'] = merge.iloc[26,1:]\n",
    "mutation_m['mutation'] = 1\n",
    "mutation_m = pd.concat([mutation_m.reset_index(drop=True),pd.DataFrame(level,columns=['level'])],axis=1)\n",
    "mutation = pd.concat([mutation_c.reset_index(drop=True),mutation_m],axis=0).reset_index(drop=True)\n",
    "mutation['response'] = mutation['response'].astype('int')\n",
    "#bootstrap\n",
    "boot_test = [1000,2000,3000,4000,5000,10000]\n",
    "for i in boot_test:\n",
    "    bootstrap_proba50 = bootstrap(mutation,0.8,i) #this is a list of 1000 proba50\n",
    "    print('iteration',i,'times')\n",
    "    sns.displot(bootstrap_proba50)\n",
    "    plt.show()\n",
    "print('running time: ',end-start)"
   ]
  },
  {
   "cell_type": "code",
   "execution_count": null,
   "metadata": {},
   "outputs": [],
   "source": [
    "#method2的bootstrap版本，但使用大量迴圈，所需執行時間長，1000次重抽樣、1000cut，每一突變點需約10分鐘\n",
    "def bootstrap_roc(data,sam_pro,repeat_times,cut_times):\n",
    "    bootstrap_roc = []\n",
    "    for i in range(repeat_times):\n",
    "        sample = data.sample(frac=sam_pro)\n",
    "        cut = np.linspace(min(sample['response']),max(sample['response']),cut_times)\n",
    "        best_cut,SUM_best = find_roc_best(sample[sample.mutation==0],sample[sample.mutation==1],cut)\n",
    "        bootstrap_roc.append(best_cut)\n",
    "    return bootstrap_roc"
   ]
  },
  {
   "cell_type": "code",
   "execution_count": null,
   "metadata": {},
   "outputs": [],
   "source": [
    "#method3的bootstrap版本，耗時長、暫不考慮\n",
    "def bootstrap_acc(data,sam_pro,repeat_times,cut_times):\n",
    "    bootstrap_acc = []\n",
    "    for i in range(repeat_times):\n",
    "        sample = data.sample(frac=sam_pro)\n",
    "        cut = np.linspace(min(sample['response']),max(sample['response']),cut_times)\n",
    "        best_cut,accuracy_best = find_max_accu(sample[sample.mutation==0],sample[sample.mutation==1],cut)\n",
    "        bootstrap_acc.append(best_cut)\n",
    "    return bootstrap_acc"
   ]
  },
  {
   "cell_type": "code",
   "execution_count": null,
   "metadata": {},
   "outputs": [],
   "source": [
    "#fifth method\n",
    "#conduct bootstrap method to find the distribution best roc_cut\n",
    "start = time.time()\n",
    "method_5 = pd.DataFrame(columns=['Index','Name','Lower','Upper','Gray rate','FN rate','Native','Mutated','Bignative','Smallmutation'])\n",
    "roc_dis = []\n",
    "for i in range(49):\n",
    "    #build dataframe for each mutation\n",
    "    #control\n",
    "    mutation_c = pd.DataFrame()\n",
    "    mutation_c['response'] = control.iloc[i,1:]\n",
    "    mutation_c['mutation'] = 0\n",
    "    mutation_c['level'] = 0\n",
    "    #mutated\n",
    "    mutation_m = pd.DataFrame()\n",
    "    mutation_m['response'] = merge.iloc[i,1:]\n",
    "    mutation_m['mutation'] = 1\n",
    "    mutation_m = pd.concat([mutation_m.reset_index(drop=True),pd.DataFrame(level,columns=['level'])],axis=1)\n",
    "    mutation = pd.concat([mutation_c.reset_index(drop=True),mutation_m],axis=0).reset_index(drop=True)\n",
    "    mutation['response'] = mutation['response'].astype('int')\n",
    "    #bootstrap\n",
    "    bootstrap_roc = bootstrap_roc(mutation,0.8,1000,2000)\n",
    "    roc_dis.append(bootstrap_roc)\n",
    "    #calculating lower and upper bounds\n",
    "    upper = max(bootstrap_roc)\n",
    "    lower = min(bootstrap_roc)\n",
    "    gray_num = count_num(mutation.iloc[:,0],lower,upper)\n",
    "    native = count_num(mutation_c.iloc[:,0],lower,upper)\n",
    "    mutated = count_num(mutation_m.iloc[:,0],lower,upper)\n",
    "    big_native = count_large_native(mutation,upper)\n",
    "    small_mutation = count_small_mutation(mutation,lower)\n",
    "    #store into a df\n",
    "    try:\n",
    "        FN_rate = mutated/(native+mutated)\n",
    "    except:\n",
    "        FN_rate = 0\n",
    "    method_5 = method_5.append({'Index':i,'Name':merge.iloc[i,0],'Lower':lower,'Upper':upper,\n",
    "                                'Gray rate':gray_num/len(mutation),'FN rate':FN_rate,\n",
    "                                'Native':native,'Mutated':mutated,'Bignative':big_native,'Smallmutation':small_mutation},\n",
    "                                ignore_index=True)\n",
    "    #print out the result\n",
    "    print('the bounds of gray area of ','***',i,merge.iloc[i,0],'***',' is ','( {} , {} )'.format(lower,upper))\n",
    "    print('the proportion of data in the gray area is ',gray_num/len(mutation))\n",
    "    print('There are {} native and {} mutated in gray area: False Negative {}%'.format(native,mutated,FN_rate))\n",
    "    print('***number of large_native is {}, number of small_mutation is {}'.format(big_native,\n",
    "                                                                                       small_mutation))\n",
    "#output the result as csv\n",
    "method_5.to_csv('method_5.csv')\n",
    "#how long does it take?\n",
    "end = time.time()\n",
    "print('running time: ',end-start)"
   ]
  },
  {
   "cell_type": "code",
   "execution_count": null,
   "metadata": {},
   "outputs": [],
   "source": [
    "#fourth method #Second edition\n",
    "#conduct bootstrap method to find the distribution proba50\n",
    "#use the 5 and 95 percentile as lower and upper\n",
    "start = time.time()\n",
    "method_4_2 = pd.DataFrame(columns=['Index','Name','Lower','Upper','Gray rate','FN rate','Native','Mutated','Bignative','Smallmutation'])\n",
    "proba50_dis = []\n",
    "for i in range(49):\n",
    "    #build dataframe for each mutation\n",
    "    #control\n",
    "    mutation_c = pd.DataFrame()\n",
    "    mutation_c['response'] = control.iloc[i,1:]\n",
    "    mutation_c['mutation'] = 0\n",
    "    mutation_c['level'] = 0\n",
    "    #mutated\n",
    "    mutation_m = pd.DataFrame()\n",
    "    mutation_m['response'] = merge.iloc[i,1:]\n",
    "    mutation_m['mutation'] = 1\n",
    "    mutation_m = pd.concat([mutation_m.reset_index(drop=True),pd.DataFrame(level,columns=['level'])],axis=1)\n",
    "    mutation = pd.concat([mutation_c.reset_index(drop=True),mutation_m],axis=0).reset_index(drop=True)\n",
    "    mutation['response'] = mutation['response'].astype('int')\n",
    "    #bootstrap\n",
    "    bootstrap_proba50 = bootstrap(mutation,0.8,1000) #this is a list of 1000 proba50\n",
    "    proba50_dis.append(bootstrap_proba50)\n",
    "    #calculating lower and upper bounds\n",
    "    upper = np.percentile(bootstrap_proba50,95)\n",
    "    lower = np.percentile(bootstrap_proba50,5)\n",
    "    gray_num = count_num(mutation.iloc[:,0],lower,upper)\n",
    "    native = count_num(mutation_c.iloc[:,0],lower,upper)\n",
    "    mutated = count_num(mutation_m.iloc[:,0],lower,upper)\n",
    "    big_native = count_large_native(mutation,upper)\n",
    "    small_mutation = count_small_mutation(mutation,lower)\n",
    "    #store into a df\n",
    "    try:\n",
    "        FN_rate = mutated/(native+mutated)\n",
    "    except:\n",
    "        FN_rate = 0\n",
    "    method_4_2 = method_4_2.append({'Index':i,'Name':merge.iloc[i,0],'Lower':lower,'Upper':upper,\n",
    "                                'Gray rate':gray_num/len(mutation),'FN rate':FN_rate,\n",
    "                                'Native':native,'Mutated':mutated,'Bignative':big_native,'Smallmutation':small_mutation},\n",
    "                                ignore_index=True)\n",
    "    #print out the result\n",
    "    print('the bounds of gray area of ','***',i,merge.iloc[i,0],'***',' is ','( {} , {} )'.format(lower,upper))\n",
    "    print('the proportion of data in the gray area is ',gray_num/len(mutation))\n",
    "    print('There are {} native and {} mutated in gray area: False Negative {}%'.format(native,mutated,FN_rate))\n",
    "    print('***number of large_native is {}, number of small_mutation is {}'.format(big_native,\n",
    "                                                                                       small_mutation))\n",
    "#output the result as csv\n",
    "method_4_2.to_csv('method_4_2.csv')\n",
    "#how long does it take?\n",
    "end = time.time()\n",
    "print('running time: ',end-start)"
   ]
  },
  {
   "cell_type": "code",
   "execution_count": null,
   "metadata": {
    "scrolled": false
   },
   "outputs": [],
   "source": [
    "#visualize all 5 methods on the following index(reason listed in the excel file)\n",
    "vis_ind = [0,9,12,31,43,44]\n",
    "import time\n",
    "start = time.time()\n",
    "boundaries = pd.read_excel('/Users/liu/Desktop/合作社專案三_lungcancer/資料彙整.xlsx',sheet_name='visualized mutation')\n",
    "plt.rcParams[\"figure.figsize\"] = (20,10)\n",
    "for i,j in enumerate(vis_ind):\n",
    "    mutation_c = pd.DataFrame()\n",
    "    mutation_c['response'] = control.iloc[j,1:]\n",
    "    mutation_c['mutation'] = 0\n",
    "    mutation_c['level'] = 0\n",
    "    mutation_m = pd.DataFrame()\n",
    "    mutation_m['response'] = merge.iloc[j,1:]\n",
    "    mutation_m['mutation'] = 1\n",
    "    mutation_m = pd.concat([mutation_m.reset_index(drop=True),pd.DataFrame(level,columns=['level'])],axis=1)\n",
    "    mutation = pd.concat([mutation_c.reset_index(drop=True),mutation_m],axis=0).reset_index(drop=True)\n",
    "    mutation['response'] = mutation['response'].astype('int')\n",
    "    clf = LogisticRegression()\n",
    "    X = mutation['response'].values.reshape(-1,1)\n",
    "    Y = mutation['mutation'].values.reshape(-1,1)\n",
    "    clf.fit(X,np.ravel(Y.astype(int)))\n",
    "    print('plot of mutation:',j,'-',merge.iloc[j,0])\n",
    "    for k in range(1,6):\n",
    "        lower = float(boundaries.iloc[i+1,k+1])\n",
    "        upper = float(boundaries.iloc[i+1,k+6])\n",
    "        plt.subplot(2, 3, k)\n",
    "        sns.scatterplot(data=mutation,x='response',y='mutation',hue='level',alpha=0.6).set_title(label=boundaries.iloc[0,k+1])\n",
    "        plt.plot(curve,clf.predict_proba(curve)[:,1],alpha=0.7,color='lightblue')\n",
    "        plt.axvspan(lower, upper, facecolor='gray', alpha=0.3)\n",
    "        \n",
    "    plt.show()\n",
    "end = time.time()\n",
    "print('running time: ',end-start)"
   ]
  },
  {
   "cell_type": "code",
   "execution_count": null,
   "metadata": {},
   "outputs": [],
   "source": []
  },
  {
   "cell_type": "code",
   "execution_count": null,
   "metadata": {},
   "outputs": [],
   "source": []
  }
 ],
 "metadata": {
  "kernelspec": {
   "display_name": "Python 3",
   "language": "python",
   "name": "python3"
  },
  "language_info": {
   "codemirror_mode": {
    "name": "ipython",
    "version": 3
   },
   "file_extension": ".py",
   "mimetype": "text/x-python",
   "name": "python",
   "nbconvert_exporter": "python",
   "pygments_lexer": "ipython3",
   "version": "3.8.5"
  }
 },
 "nbformat": 4,
 "nbformat_minor": 4
}
